{
  "cells": [
    {
      "cell_type": "code",
      "source": [
        "from  pyspark.sql.functions import input_file_name\n",
        "import os\n",
        "\n",
        "df = spark.read.load('abfss://hddata@[container].dfs.core.windows.net/[path]/*.csv', format='csv', header=True).withColumn('file', input_file_name())\n",
        "\n",
        "display(df)"
      ],
      "outputs": [
        {
          "output_type": "display_data",
          "data": {
            "application/vnd.livy.statement-meta+json": {
              "spark_pool": "wu2sinespark",
              "session_id": 31,
              "statement_id": 3,
              "state": "finished",
              "livy_statement_state": "available",
              "queued_time": "2021-01-12T18:50:21.9678603Z",
              "execution_start_time": "2021-01-12T18:53:37.7565535Z",
              "execution_finish_time": "2021-01-12T18:54:51.557098Z",
              "from_artifact": true
            },
            "text/plain": "StatementMeta(wu2sinespark, 31, 3, Finished, Available)"
          },
          "metadata": {}
        },
        {
          "output_type": "display_data",
          "data": {
            "application/vnd.synapse.widget-view+json": {
              "widget_id": "b9f699e2-ec15-4c1c-9181-9c59f1d2dd7a",
              "widget_type": "Synapse.DataFrame"
            },
            "text/plain": "SynapseWidget(Synapse.DataFrame, b9f699e2-ec15-4c1c-9181-9c59f1d2dd7a)"
          },
          "metadata": {}
        },
        {
          "output_type": "execute_result",
          "execution_count": 1,
          "data": {},
          "metadata": {}
        }
      ],
      "execution_count": 1,
      "metadata": {
        "collapsed": false,
        "diagram": {
          "activateDiagramType": 1,
          "chartConfig": {
            "category": "bar",
            "keys": [
              "date"
            ],
            "values": [
              "date"
            ],
            "yLabel": "date",
            "xLabel": "date",
            "aggregation": "COUNT",
            "aggByBackend": false
          },
          "aggData": "\"\\\"\\\\\\\"{\\\\\\\\\\\\\\\"date\\\\\\\\\\\\\\\":{\\\\\\\\\\\\\\\"2018-03-13\\\\\\\\\\\\\\\":1001}}\\\\\\\"\\\"\"",
          "isSummary": false,
          "previewData": {
            "filter": null
          },
          "isSql": false
        }
      }
    },
    {
      "cell_type": "markdown",
      "source": [
        "\n",
        "## Profile code for new dataset\n"
      ],
      "metadata": {}
    },
    {
      "cell_type": "code",
      "source": [
        "df_profile = df.describe()\n"
      ],
      "outputs": [
        {
          "output_type": "display_data",
          "data": {
            "application/vnd.livy.statement-meta+json": {
              "spark_pool": "wu2sinespark",
              "session_id": 31,
              "statement_id": 4,
              "state": "finished",
              "livy_statement_state": "available",
              "queued_time": "2021-01-12T18:50:36.4312885Z",
              "execution_start_time": "2021-01-12T18:54:52.0572888Z",
              "execution_finish_time": "2021-01-12T19:00:59.5858856Z",
              "from_artifact": true
            },
            "text/plain": "StatementMeta(wu2sinespark, 31, 4, Finished, Available)"
          },
          "metadata": {}
        },
        {
          "output_type": "execute_result",
          "execution_count": 2,
          "data": {
            "text/plain": ""
          },
          "metadata": {}
        }
      ],
      "execution_count": 2,
      "metadata": {
        "diagram": {
          "activateDiagramType": 1,
          "chartConfig": {
            "category": "bar",
            "keys": [
              "summary"
            ],
            "values": [
              "summary"
            ],
            "yLabel": "summary",
            "xLabel": "summary",
            "aggregation": "COUNT",
            "aggByBackend": false
          },
          "aggData": "\"\\\"\\\\\\\"{\\\\\\\\\\\\\\\"summary\\\\\\\\\\\\\\\":{\\\\\\\\\\\\\\\"count\\\\\\\\\\\\\\\":1,\\\\\\\\\\\\\\\"max\\\\\\\\\\\\\\\":1,\\\\\\\\\\\\\\\"mean\\\\\\\\\\\\\\\":1,\\\\\\\\\\\\\\\"min\\\\\\\\\\\\\\\":1,\\\\\\\\\\\\\\\"stddev\\\\\\\\\\\\\\\":1}}\\\\\\\"\\\"\"",
          "isSummary": false,
          "previewData": {
            "filter": null
          },
          "isSql": false
        }
      }
    },
    {
      "cell_type": "markdown",
      "source": [
        "## Save out any additional validation data sets \n"
      ],
      "metadata": {}
    },
    {
      "cell_type": "code",
      "source": [
        "validation_count_by_date = df.groupBy('file','date').count()\n"
      ],
      "outputs": [
        {
          "output_type": "display_data",
          "data": {
            "application/vnd.livy.statement-meta+json": {
              "spark_pool": "wu2sinespark",
              "session_id": 31,
              "statement_id": 5,
              "state": "finished",
              "livy_statement_state": "available",
              "queued_time": "2021-01-12T18:50:56.7666918Z",
              "execution_start_time": "2021-01-12T19:00:59.61678Z",
              "execution_finish_time": "2021-01-12T19:01:01.656137Z",
              "from_artifact": true
            },
            "text/plain": "StatementMeta(wu2sinespark, 31, 5, Finished, Available)"
          },
          "metadata": {}
        },
        {
          "output_type": "execute_result",
          "execution_count": 3,
          "data": {
            "text/plain": ""
          },
          "metadata": {}
        }
      ],
      "execution_count": 3,
      "metadata": {
        "diagram": {
          "activateDiagramType": 1,
          "chartConfig": {
            "category": "bar",
            "keys": [
              "Age"
            ],
            "values": [
              "count"
            ],
            "yLabel": "count",
            "xLabel": "Age",
            "aggregation": "SUM",
            "aggByBackend": false
          },
          "aggData": "\"\\\"\\\\\\\"{\\\\\\\\\\\\\\\"count\\\\\\\\\\\\\\\":{\\\\\\\\\\\\\\\"18\\\\\\\\\\\\\\\":8,\\\\\\\\\\\\\\\"19\\\\\\\\\\\\\\\":9,\\\\\\\\\\\\\\\"20\\\\\\\\\\\\\\\":11,\\\\\\\\\\\\\\\"21\\\\\\\\\\\\\\\":13,\\\\\\\\\\\\\\\"22\\\\\\\\\\\\\\\":16,\\\\\\\\\\\\\\\"23\\\\\\\\\\\\\\\":14,\\\\\\\\\\\\\\\"24\\\\\\\\\\\\\\\":26,\\\\\\\\\\\\\\\"25\\\\\\\\\\\\\\\":26,\\\\\\\\\\\\\\\"26\\\\\\\\\\\\\\\":39,\\\\\\\\\\\\\\\"27\\\\\\\\\\\\\\\":48,\\\\\\\\\\\\\\\"28\\\\\\\\\\\\\\\":48,\\\\\\\\\\\\\\\"29\\\\\\\\\\\\\\\":68,\\\\\\\\\\\\\\\"30\\\\\\\\\\\\\\\":60,\\\\\\\\\\\\\\\"31\\\\\\\\\\\\\\\":69,\\\\\\\\\\\\\\\"32\\\\\\\\\\\\\\\":61,\\\\\\\\\\\\\\\"33\\\\\\\\\\\\\\\":58,\\\\\\\\\\\\\\\"34\\\\\\\\\\\\\\\":77,\\\\\\\\\\\\\\\"35\\\\\\\\\\\\\\\":78,\\\\\\\\\\\\\\\"36\\\\\\\\\\\\\\\":69,\\\\\\\\\\\\\\\"37\\\\\\\\\\\\\\\":50,\\\\\\\\\\\\\\\"38\\\\\\\\\\\\\\\":58,\\\\\\\\\\\\\\\"39\\\\\\\\\\\\\\\":42,\\\\\\\\\\\\\\\"40\\\\\\\\\\\\\\\":57,\\\\\\\\\\\\\\\"41\\\\\\\\\\\\\\\":40,\\\\\\\\\\\\\\\"42\\\\\\\\\\\\\\\":46,\\\\\\\\\\\\\\\"43\\\\\\\\\\\\\\\":32,\\\\\\\\\\\\\\\"44\\\\\\\\\\\\\\\":33,\\\\\\\\\\\\\\\"45\\\\\\\\\\\\\\\":41,\\\\\\\\\\\\\\\"46\\\\\\\\\\\\\\\":33,\\\\\\\\\\\\\\\"47\\\\\\\\\\\\\\\":24,\\\\\\\\\\\\\\\"48\\\\\\\\\\\\\\\":19,\\\\\\\\\\\\\\\"49\\\\\\\\\\\\\\\":24,\\\\\\\\\\\\\\\"50\\\\\\\\\\\\\\\":30,\\\\\\\\\\\\\\\"51\\\\\\\\\\\\\\\":19,\\\\\\\\\\\\\\\"52\\\\\\\\\\\\\\\":18,\\\\\\\\\\\\\\\"53\\\\\\\\\\\\\\\":19,\\\\\\\\\\\\\\\"54\\\\\\\\\\\\\\\":18,\\\\\\\\\\\\\\\"55\\\\\\\\\\\\\\\":22,\\\\\\\\\\\\\\\"56\\\\\\\\\\\\\\\":14,\\\\\\\\\\\\\\\"57\\\\\\\\\\\\\\\":4,\\\\\\\\\\\\\\\"58\\\\\\\\\\\\\\\":14,\\\\\\\\\\\\\\\"59\\\\\\\\\\\\\\\":10,\\\\\\\\\\\\\\\"60\\\\\\\\\\\\\\\":5}}\\\\\\\"\\\"\"",
          "isSummary": false,
          "previewData": {
            "filter": null
          },
          "isSql": false
        }
      }
    },
    {
      "cell_type": "code",
      "source": [
        "display(validation_count_by_date)"
      ],
      "outputs": [
        {
          "output_type": "display_data",
          "data": {
            "application/vnd.livy.statement-meta+json": {
              "spark_pool": "wu2sinespark",
              "session_id": 31,
              "statement_id": 6,
              "state": "finished",
              "livy_statement_state": "available",
              "queued_time": "2021-01-12T18:50:59.9521766Z",
              "execution_start_time": "2021-01-12T19:01:01.6937943Z",
              "execution_finish_time": "2021-01-12T19:01:09.8647427Z",
              "from_artifact": true
            },
            "text/plain": "StatementMeta(wu2sinespark, 31, 6, Finished, Available)"
          },
          "metadata": {}
        },
        {
          "output_type": "display_data",
          "data": {
            "application/vnd.synapse.widget-view+json": {
              "widget_id": "0011ff6e-dfba-49e9-9a0d-23043d5796ce",
              "widget_type": "Synapse.DataFrame"
            },
            "text/plain": "SynapseWidget(Synapse.DataFrame, 0011ff6e-dfba-49e9-9a0d-23043d5796ce)"
          },
          "metadata": {}
        },
        {
          "output_type": "execute_result",
          "execution_count": 4,
          "data": {},
          "metadata": {}
        }
      ],
      "execution_count": 4,
      "metadata": {
        "collapsed": false,
        "diagram": {
          "activateDiagramType": 1,
          "chartConfig": {
            "category": "bar",
            "keys": [
              "file"
            ],
            "values": [
              "count"
            ],
            "yLabel": "count",
            "xLabel": "file",
            "aggregation": "SUM",
            "aggByBackend": false
          },
          "aggData": "\"\\\"\\\\\\\"{\\\\\\\\\\\\\\\"count\\\\\\\\\\\\\\\":{\\\\\\\\\\\\\\\"wasbs://hddata@wu2modtimesmls2858026735.blob.core.windows.net/2018/2018-01-01.csv\\\\\\\\\\\\\\\":94186,\\\\\\\\\\\\\\\"wasbs://hddata@wu2modtimesmls2858026735.blob.core.windows.net/2018/2018-01-02.csv\\\\\\\\\\\\\\\":94323,\\\\\\\\\\\\\\\"wasbs://hddata@wu2modtimesmls2858026735.blob.core.windows.net/2018/2018-01-03.csv\\\\\\\\\\\\\\\":94415,\\\\\\\\\\\\\\\"wasbs://hddata@wu2modtimesmls2858026735.blob.core.windows.net/2018/2018-01-04.csv\\\\\\\\\\\\\\\":94364,\\\\\\\\\\\\\\\"wasbs://hddata@wu2modtimesmls2858026735.blob.core.windows.net/2018/2018-01-05.csv\\\\\\\\\\\\\\\":95528,\\\\\\\\\\\\\\\"wasbs://hddata@wu2modtimesmls2858026735.blob.core.windows.net/2018/2018-01-06.csv\\\\\\\\\\\\\\\":96626,\\\\\\\\\\\\\\\"wasbs://hddata@wu2modtimesmls2858026735.blob.core.windows.net/2018/2018-01-07.csv\\\\\\\\\\\\\\\":96748,\\\\\\\\\\\\\\\"wasbs://hddata@wu2modtimesmls2858026735.blob.core.windows.net/2018/2018-01-08.csv\\\\\\\\\\\\\\\":96290,\\\\\\\\\\\\\\\"wasbs://hddata@wu2modtimesmls2858026735.blob.core.windows.net/2018/2018-01-09.csv\\\\\\\\\\\\\\\":96443,\\\\\\\\\\\\\\\"wasbs://hddata@wu2modtimesmls2858026735.blob.core.windows.net/2018/2018-01-10.csv\\\\\\\\\\\\\\\":95968,\\\\\\\\\\\\\\\"wasbs://hddata@wu2modtimesmls2858026735.blob.core.windows.net/2018/2018-01-11.csv\\\\\\\\\\\\\\\":96746,\\\\\\\\\\\\\\\"wasbs://hddata@wu2modtimesmls2858026735.blob.core.windows.net/2018/2018-01-12.csv\\\\\\\\\\\\\\\":97508,\\\\\\\\\\\\\\\"wasbs://hddata@wu2modtimesmls2858026735.blob.core.windows.net/2018/2018-01-13.csv\\\\\\\\\\\\\\\":99932,\\\\\\\\\\\\\\\"wasbs://hddata@wu2modtimesmls2858026735.blob.core.windows.net/2018/2018-01-14.csv\\\\\\\\\\\\\\\":99811,\\\\\\\\\\\\\\\"wasbs://hddata@wu2modtimesmls2858026735.blob.core.windows.net/2018/2018-01-15.csv\\\\\\\\\\\\\\\":99964,\\\\\\\\\\\\\\\"wasbs://hddata@wu2modtimesmls2858026735.blob.core.windows.net/2018/2018-01-16.csv\\\\\\\\\\\\\\\":99244,\\\\\\\\\\\\\\\"wasbs://hddata@wu2modtimesmls2858026735.blob.core.windows.net/2018/2018-01-17.csv\\\\\\\\\\\\\\\":98493,\\\\\\\\\\\\\\\"wasbs://hddata@wu2modtimesmls2858026735.blob.core.windows.net/2018/2018-01-18.csv\\\\\\\\\\\\\\\":98685,\\\\\\\\\\\\\\\"wasbs://hddata@wu2modtimesmls2858026735.blob.core.windows.net/2018/2018-01-19.csv\\\\\\\\\\\\\\\":98823,\\\\\\\\\\\\\\\"wasbs://hddata@wu2modtimesmls2858026735.blob.core.windows.net/2018/2018-01-20.csv\\\\\\\\\\\\\\\":97447,\\\\\\\\\\\\\\\"wasbs://hddata@wu2modtimesmls2858026735.blob.core.windows.net/2018/2018-01-21.csv\\\\\\\\\\\\\\\":99225,\\\\\\\\\\\\\\\"wasbs://hddata@wu2modtimesmls2858026735.blob.core.windows.net/2018/2018-01-22.csv\\\\\\\\\\\\\\\":99179,\\\\\\\\\\\\\\\"wasbs://hddata@wu2modtimesmls2858026735.blob.core.windows.net/2018/2018-01-23.csv\\\\\\\\\\\\\\\":98506,\\\\\\\\\\\\\\\"wasbs://hddata@wu2modtimesmls2858026735.blob.core.windows.net/2018/2018-01-24.csv\\\\\\\\\\\\\\\":99272,\\\\\\\\\\\\\\\"wasbs://hddata@wu2modtimesmls2858026735.blob.core.windows.net/2018/2018-01-25.csv\\\\\\\\\\\\\\\":100370,\\\\\\\\\\\\\\\"wasbs://hddata@wu2modtimesmls2858026735.blob.core.windows.net/2018/2018-01-26.csv\\\\\\\\\\\\\\\":99652,\\\\\\\\\\\\\\\"wasbs://hddata@wu2modtimesmls2858026735.blob.core.windows.net/2018/2018-01-27.csv\\\\\\\\\\\\\\\":100431,\\\\\\\\\\\\\\\"wasbs://hddata@wu2modtimesmls2858026735.blob.core.windows.net/2018/2018-01-28.csv\\\\\\\\\\\\\\\":100293,\\\\\\\\\\\\\\\"wasbs://hddata@wu2modtimesmls2858026735.blob.core.windows.net/2018/2018-01-29.csv\\\\\\\\\\\\\\\":100293,\\\\\\\\\\\\\\\"wasbs://hddata@wu2modtimesmls2858026735.blob.core.windows.net/2018/2018-01-30.csv\\\\\\\\\\\\\\\":100293,\\\\\\\\\\\\\\\"wasbs://hddata@wu2modtimesmls2858026735.blob.core.windows.net/2018/2018-01-31.csv\\\\\\\\\\\\\\\":100248,\\\\\\\\\\\\\\\"wasbs://hddata@wu2modtimesmls2858026735.blob.core.windows.net/2018/2018-02-01.csv\\\\\\\\\\\\\\\":100201,\\\\\\\\\\\\\\\"wasbs://hddata@wu2modtimesmls2858026735.blob.core.windows.net/2018/2018-02-02.csv\\\\\\\\\\\\\\\":100202,\\\\\\\\\\\\\\\"wasbs://hddata@wu2modtimesmls2858026735.blob.core.windows.net/2018/2018-02-03.csv\\\\\\\\\\\\\\\":100142,\\\\\\\\\\\\\\\"wasbs://hddata@wu2modtimesmls2858026735.blob.core.windows.net/2018/2018-02-04.csv\\\\\\\\\\\\\\\":100096,\\\\\\\\\\\\\\\"wasbs://hddata@wu2modtimesmls2858026735.blob.core.windows.net/2018/2018-02-05.csv\\\\\\\\\\\\\\\":100050,\\\\\\\\\\\\\\\"wasbs://hddata@wu2modtimesmls2858026735.blob.core.windows.net/2018/2018-02-06.csv\\\\\\\\\\\\\\\":100110,\\\\\\\\\\\\\\\"wasbs://hddata@wu2modtimesmls2858026735.blob.core.windows.net/2018/2018-02-07.csv\\\\\\\\\\\\\\\":100018,\\\\\\\\\\\\\\\"wasbs://hddata@wu2modtimesmls2858026735.blob.core.windows.net/2018/2018-02-08.csv\\\\\\\\\\\\\\\":99742,\\\\\\\\\\\\\\\"wasbs://hddata@wu2modtimesmls2858026735.blob.core.windows.net/2018/2018-02-09.csv\\\\\\\\\\\\\\\":99268,\\\\\\\\\\\\\\\"wasbs://hddata@wu2modtimesmls2858026735.blob.core.windows.net/2018/2018-02-10.csv\\\\\\\\\\\\\\\":99268,\\\\\\\\\\\\\\\"wasbs://hddata@wu2modtimesmls2858026735.blob.core.windows.net/2018/2018-02-11.csv\\\\\\\\\\\\\\\":99083,\\\\\\\\\\\\\\\"wasbs://hddata@wu2modtimesmls2858026735.blob.core.windows.net/2018/2018-02-12.csv\\\\\\\\\\\\\\\":100304,\\\\\\\\\\\\\\\"wasbs://hddata@wu2modtimesmls2858026735.blob.core.windows.net/2018/2018-02-13.csv\\\\\\\\\\\\\\\":100364,\\\\\\\\\\\\\\\"wasbs://hddata@wu2modtimesmls2858026735.blob.core.windows.net/2018/2018-02-14.csv\\\\\\\\\\\\\\\":100362,\\\\\\\\\\\\\\\"wasbs://hddata@wu2modtimesmls2858026735.blob.core.windows.net/2018/2018-02-15.csv\\\\\\\\\\\\\\\":100302,\\\\\\\\\\\\\\\"wasbs://hddata@wu2modtimesmls2858026735.blob.core.windows.net/2018/2018-02-16.csv\\\\\\\\\\\\\\\":100364,\\\\\\\\\\\\\\\"wasbs://hddata@wu2modtimesmls2858026735.blob.core.windows.net/2018/2018-02-17.csv\\\\\\\\\\\\\\\":100410,\\\\\\\\\\\\\\\"wasbs://hddata@wu2modtimesmls2858026735.blob.core.windows.net/2018/2018-02-18.csv\\\\\\\\\\\\\\\":100409,\\\\\\\\\\\\\\\"wasbs://hddata@wu2modtimesmls2858026735.blob.core.windows.net/2018/2018-02-19.csv\\\\\\\\\\\\\\\":100407,\\\\\\\\\\\\\\\"wasbs://hddata@wu2modtimesmls2858026735.blob.core.windows.net/2018/2018-02-20.csv\\\\\\\\\\\\\\\":100409,\\\\\\\\\\\\\\\"wasbs://hddata@wu2modtimesmls2858026735.blob.core.windows.net/2018/2018-02-21.csv\\\\\\\\\\\\\\\":100350,\\\\\\\\\\\\\\\"wasbs://hddata@wu2modtimesmls2858026735.blob.core.windows.net/2018/2018-02-22.csv\\\\\\\\\\\\\\\":100304,\\\\\\\\\\\\\\\"wasbs://hddata@wu2modtimesmls2858026735.blob.core.windows.net/2018/2018-02-23.csv\\\\\\\\\\\\\\\":100364,\\\\\\\\\\\\\\\"wasbs://hddata@wu2modtimesmls2858026735.blob.core.windows.net/2018/2018-02-24.csv\\\\\\\\\\\\\\\":100253,\\\\\\\\\\\\\\\"wasbs://hddata@wu2modtimesmls2858026735.blob.core.windows.net/2018/2018-02-25.csv\\\\\\\\\\\\\\\":100253,\\\\\\\\\\\\\\\"wasbs://hddata@wu2modtimesmls2858026735.blob.core.windows.net/2018/2018-02-26.csv\\\\\\\\\\\\\\\":100253,\\\\\\\\\\\\\\\"wasbs://hddata@wu2modtimesmls2858026735.blob.core.windows.net/2018/2018-02-27.csv\\\\\\\\\\\\\\\":100312,\\\\\\\\\\\\\\\"wasbs://hddata@wu2modtimesmls2858026735.blob.core.windows.net/2018/2018-02-28.csv\\\\\\\\\\\\\\\":100252,\\\\\\\\\\\\\\\"wasbs://hddata@wu2modtimesmls2858026735.blob.core.windows.net/2018/2018-03-01.csv\\\\\\\\\\\\\\\":100298,\\\\\\\\\\\\\\\"wasbs://hddata@wu2modtimesmls2858026735.blob.core.windows.net/2018/2018-03-02.csv\\\\\\\\\\\\\\\":100037,\\\\\\\\\\\\\\\"wasbs://hddata@wu2modtimesmls2858026735.blob.core.windows.net/2018/2018-03-03.csv\\\\\\\\\\\\\\\":99899,\\\\\\\\\\\\\\\"wasbs://hddata@wu2modtimesmls2858026735.blob.core.windows.net/2018/2018-03-04.csv\\\\\\\\\\\\\\\":99898,\\\\\\\\\\\\\\\"wasbs://hddata@wu2modtimesmls2858026735.blob.core.windows.net/2018/2018-03-05.csv\\\\\\\\\\\\\\\":99898,\\\\\\\\\\\\\\\"wasbs://hddata@wu2modtimesmls2858026735.blob.core.windows.net/2018/2018-03-06.csv\\\\\\\\\\\\\\\":99899,\\\\\\\\\\\\\\\"wasbs://hddata@wu2modtimesmls2858026735.blob.core.windows.net/2018/2018-03-07.csv\\\\\\\\\\\\\\\":99761,\\\\\\\\\\\\\\\"wasbs://hddata@wu2modtimesmls2858026735.blob.core.windows.net/2018/2018-03-08.csv\\\\\\\\\\\\\\\":99674,\\\\\\\\\\\\\\\"wasbs://hddata@wu2modtimesmls2858026735.blob.core.windows.net/2018/2018-03-09.csv\\\\\\\\\\\\\\\":99490,\\\\\\\\\\\\\\\"wasbs://hddata@wu2modtimesmls2858026735.blob.core.windows.net/2018/2018-03-10.csv\\\\\\\\\\\\\\\":99444,\\\\\\\\\\\\\\\"wasbs://hddata@wu2modtimesmls2858026735.blob.core.windows.net/2018/2018-03-11.csv\\\\\\\\\\\\\\\":99444,\\\\\\\\\\\\\\\"wasbs://hddata@wu2modtimesmls2858026735.blob.core.windows.net/2018/2018-03-12.csv\\\\\\\\\\\\\\\":100618,\\\\\\\\\\\\\\\"wasbs://hddata@wu2modtimesmls2858026735.blob.core.windows.net/2018/2018-03-13.csv\\\\\\\\\\\\\\\":100618,\\\\\\\\\\\\\\\"wasbs://hddata@wu2modtimesmls2858026735.blob.core.windows.net/2018/2018-03-14.csv\\\\\\\\\\\\\\\":100572,\\\\\\\\\\\\\\\"wasbs://hddata@wu2modtimesmls2858026735.blob.core.windows.net/2018/2018-03-15.csv\\\\\\\\\\\\\\\":100571,\\\\\\\\\\\\\\\"wasbs://hddata@wu2modtimesmls2858026735.blob.core.windows.net/2018/2018-03-16.csv\\\\\\\\\\\\\\\":100572,\\\\\\\\\\\\\\\"wasbs://hddata@wu2modtimesmls2858026735.blob.core.windows.net/2018/2018-03-17.csv\\\\\\\\\\\\\\\":100587,\\\\\\\\\\\\\\\"wasbs://hddata@wu2modtimesmls2858026735.blob.core.windows.net/2018/2018-03-18.csv\\\\\\\\\\\\\\\":100526,\\\\\\\\\\\\\\\"wasbs://hddata@wu2modtimesmls2858026735.blob.core.windows.net/2018/2018-03-19.csv\\\\\\\\\\\\\\\":100526,\\\\\\\\\\\\\\\"wasbs://hddata@wu2modtimesmls2858026735.blob.core.windows.net/2018/2018-03-20.csv\\\\\\\\\\\\\\\":100587,\\\\\\\\\\\\\\\"wasbs://hddata@wu2modtimesmls2858026735.blob.core.windows.net/2018/2018-03-21.csv\\\\\\\\\\\\\\\":100587,\\\\\\\\\\\\\\\"wasbs://hddata@wu2modtimesmls2858026735.blob.core.windows.net/2018/2018-03-22.csv\\\\\\\\\\\\\\\":100587,\\\\\\\\\\\\\\\"wasbs://hddata@wu2modtimesmls2858026735.blob.core.windows.net/2018/2018-03-23.csv\\\\\\\\\\\\\\\":100587,\\\\\\\\\\\\\\\"wasbs://hddata@wu2modtimesmls2858026735.blob.core.windows.net/2018/2018-03-24.csv\\\\\\\\\\\\\\\":100588,\\\\\\\\\\\\\\\"wasbs://hddata@wu2modtimesmls2858026735.blob.core.windows.net/2018/2018-03-25.csv\\\\\\\\\\\\\\\":100220,\\\\\\\\\\\\\\\"wasbs://hddata@wu2modtimesmls2858026735.blob.core.windows.net/2018/2018-03-26.csv\\\\\\\\\\\\\\\":100157,\\\\\\\\\\\\\\\"wasbs://hddata@wu2modtimesmls2858026735.blob.core.windows.net/2018/2018-03-27.csv\\\\\\\\\\\\\\\":100156,\\\\\\\\\\\\\\\"wasbs://hddata@wu2modtimesmls2858026735.blob.core.windows.net/2018/2018-03-28.csv\\\\\\\\\\\\\\\":100156,\\\\\\\\\\\\\\\"wasbs://hddata@wu2modtimesmls2858026735.blob.core.windows.net/2018/2018-03-29.csv\\\\\\\\\\\\\\\":100156,\\\\\\\\\\\\\\\"wasbs://hddata@wu2modtimesmls2858026735.blob.core.windows.net/2018/2018-03-30.csv\\\\\\\\\\\\\\\":100111,\\\\\\\\\\\\\\\"wasbs://hddata@wu2modtimesmls2858026735.blob.core.windows.net/2018/2018-03-31.csv\\\\\\\\\\\\\\\":100110}}\\\\\\\"\\\"\"",
          "isSummary": false,
          "previewData": {
            "filter": null
          },
          "isSql": false
        }
      }
    },
    {
      "cell_type": "markdown",
      "source": [
        "## Count missing values\n"
      ],
      "metadata": {}
    },
    {
      "cell_type": "code",
      "source": [
        "from pyspark.sql.functions import isnull, isnan, when, count, col\n",
        "\n",
        "missing_values = df.select([count(when(isnan(c) | col(c).isNull(), c)).alias(c) for c in df.columns]).toPandas().T\n",
        "cols = [count(when(isnan(c) | col(c).isNull(), c)).alias(c) if c not in ['file', 'date'] else count(col(c)).alias('count_{}'.format(c)) for c in df.columns]\n",
        "missing_by_file = df.groupBy('file', 'date').agg(*cols)\n",
        "\n",
        "display(missing_by_file)\n"
      ],
      "outputs": [
        {
          "output_type": "display_data",
          "data": {
            "application/vnd.livy.statement-meta+json": {
              "spark_pool": "wu2sinespark",
              "session_id": 31,
              "statement_id": 7,
              "state": "finished",
              "livy_statement_state": "available",
              "queued_time": "2021-01-12T18:51:27.3813454Z",
              "execution_start_time": "2021-01-12T19:01:09.9010291Z",
              "execution_finish_time": "2021-01-12T19:04:23.6313939Z",
              "from_artifact": true
            },
            "text/plain": "StatementMeta(wu2sinespark, 31, 7, Finished, Available)"
          },
          "metadata": {}
        },
        {
          "output_type": "display_data",
          "data": {
            "application/vnd.synapse.widget-view+json": {
              "widget_id": "07ddc2ea-02c4-43ab-a265-c9497ebcc9da",
              "widget_type": "Synapse.DataFrame"
            },
            "text/plain": "SynapseWidget(Synapse.DataFrame, 07ddc2ea-02c4-43ab-a265-c9497ebcc9da)"
          },
          "metadata": {}
        },
        {
          "output_type": "execute_result",
          "execution_count": 5,
          "data": {},
          "metadata": {}
        }
      ],
      "execution_count": 5,
      "metadata": {
        "collapsed": false,
        "diagram": {
          "activateDiagramType": 1,
          "chartConfig": {
            "category": "bar",
            "keys": [
              "model"
            ],
            "values": [
              "serial_number"
            ],
            "yLabel": "serial_number",
            "xLabel": "model",
            "aggregation": "SUM",
            "aggByBackend": false
          },
          "aggData": "\"\\\"\\\\\\\"{\\\\\\\\\\\\\\\"serial_number\\\\\\\\\\\\\\\":{\\\\\\\\\\\\\\\"0\\\\\\\\\\\\\\\":0}}\\\\\\\"\\\"\"",
          "isSummary": false,
          "previewData": {
            "filter": null
          },
          "isSql": false
        }
      }
    },
    {
      "cell_type": "markdown",
      "source": [
        "## Calculate missing value percentage for each field grouped by file/date\n"
      ],
      "metadata": {}
    },
    {
      "cell_type": "code",
      "source": [
        "missing_by_file_pct = missing_by_file.select(['date', 'file', *[(col(c)/col('count_file')).alias('{}_pct'.format(c)) for c in df.columns]])"
      ],
      "outputs": [
        {
          "output_type": "display_data",
          "data": {
            "application/vnd.livy.statement-meta+json": {
              "spark_pool": "wu2sinespark",
              "session_id": 31,
              "statement_id": 11,
              "state": "finished",
              "livy_statement_state": "available",
              "queued_time": "2021-01-12T19:06:33.1128583Z",
              "execution_start_time": "2021-01-12T19:06:33.1505001Z",
              "execution_finish_time": "2021-01-12T19:06:35.1859021Z",
              "from_artifact": true
            },
            "text/plain": "StatementMeta(wu2sinespark, 31, 11, Finished, Available)"
          },
          "metadata": {}
        },
        {
          "output_type": "execute_result",
          "execution_count": 9,
          "data": {
            "text/plain": ""
          },
          "metadata": {}
        }
      ],
      "execution_count": 9,
      "metadata": {}
    },
    {
      "cell_type": "code",
      "source": [
        "display(missing_by_file_pct)"
      ],
      "outputs": [
        {
          "output_type": "display_data",
          "data": {
            "application/vnd.livy.statement-meta+json": {
              "spark_pool": "wu2sinespark",
              "session_id": 31,
              "statement_id": 12,
              "state": "finished",
              "livy_statement_state": "available",
              "queued_time": "2021-01-12T19:06:52.8446811Z",
              "execution_start_time": "2021-01-12T19:06:52.8780216Z",
              "execution_finish_time": "2021-01-12T19:06:56.9963456Z",
              "from_artifact": true
            },
            "text/plain": "StatementMeta(wu2sinespark, 31, 12, Finished, Available)"
          },
          "metadata": {}
        },
        {
          "output_type": "display_data",
          "data": {
            "application/vnd.synapse.widget-view+json": {
              "widget_id": "cd69a3bf-0063-40a2-9847-fb3d43076282",
              "widget_type": "Synapse.DataFrame"
            },
            "text/plain": "SynapseWidget(Synapse.DataFrame, cd69a3bf-0063-40a2-9847-fb3d43076282)"
          },
          "metadata": {}
        },
        {
          "output_type": "execute_result",
          "execution_count": 10,
          "data": {},
          "metadata": {}
        }
      ],
      "execution_count": 10,
      "metadata": {
        "collapsed": false,
        "diagram": {
          "activateDiagramType": 1,
          "chartConfig": {
            "category": "bar",
            "keys": [
              "date"
            ],
            "values": [
              "date_pct"
            ],
            "yLabel": "date_pct",
            "xLabel": "date",
            "aggregation": "SUM",
            "aggByBackend": false
          },
          "aggData": "\"\\\"\\\\\\\"{\\\\\\\\\\\\\\\"date_pct\\\\\\\\\\\\\\\":{\\\\\\\\\\\\\\\"2018-01-01\\\\\\\\\\\\\\\":0,\\\\\\\\\\\\\\\"2018-01-02\\\\\\\\\\\\\\\":0,\\\\\\\\\\\\\\\"2018-01-03\\\\\\\\\\\\\\\":0,\\\\\\\\\\\\\\\"2018-01-04\\\\\\\\\\\\\\\":0,\\\\\\\\\\\\\\\"2018-01-05\\\\\\\\\\\\\\\":0,\\\\\\\\\\\\\\\"2018-01-06\\\\\\\\\\\\\\\":0,\\\\\\\\\\\\\\\"2018-01-07\\\\\\\\\\\\\\\":0,\\\\\\\\\\\\\\\"2018-01-08\\\\\\\\\\\\\\\":0,\\\\\\\\\\\\\\\"2018-01-09\\\\\\\\\\\\\\\":0,\\\\\\\\\\\\\\\"2018-01-10\\\\\\\\\\\\\\\":0,\\\\\\\\\\\\\\\"2018-01-11\\\\\\\\\\\\\\\":0,\\\\\\\\\\\\\\\"2018-01-12\\\\\\\\\\\\\\\":0,\\\\\\\\\\\\\\\"2018-01-13\\\\\\\\\\\\\\\":0,\\\\\\\\\\\\\\\"2018-01-14\\\\\\\\\\\\\\\":0,\\\\\\\\\\\\\\\"2018-01-15\\\\\\\\\\\\\\\":0,\\\\\\\\\\\\\\\"2018-01-16\\\\\\\\\\\\\\\":0,\\\\\\\\\\\\\\\"2018-01-17\\\\\\\\\\\\\\\":0,\\\\\\\\\\\\\\\"2018-01-18\\\\\\\\\\\\\\\":0,\\\\\\\\\\\\\\\"2018-01-19\\\\\\\\\\\\\\\":0,\\\\\\\\\\\\\\\"2018-01-20\\\\\\\\\\\\\\\":0,\\\\\\\\\\\\\\\"2018-01-21\\\\\\\\\\\\\\\":0,\\\\\\\\\\\\\\\"2018-01-22\\\\\\\\\\\\\\\":0,\\\\\\\\\\\\\\\"2018-01-23\\\\\\\\\\\\\\\":0,\\\\\\\\\\\\\\\"2018-01-24\\\\\\\\\\\\\\\":0,\\\\\\\\\\\\\\\"2018-01-25\\\\\\\\\\\\\\\":0,\\\\\\\\\\\\\\\"2018-01-26\\\\\\\\\\\\\\\":0,\\\\\\\\\\\\\\\"2018-01-27\\\\\\\\\\\\\\\":0,\\\\\\\\\\\\\\\"2018-01-28\\\\\\\\\\\\\\\":0,\\\\\\\\\\\\\\\"2018-01-29\\\\\\\\\\\\\\\":0,\\\\\\\\\\\\\\\"2018-01-30\\\\\\\\\\\\\\\":0,\\\\\\\\\\\\\\\"2018-01-31\\\\\\\\\\\\\\\":0,\\\\\\\\\\\\\\\"2018-02-01\\\\\\\\\\\\\\\":0,\\\\\\\\\\\\\\\"2018-02-02\\\\\\\\\\\\\\\":0,\\\\\\\\\\\\\\\"2018-02-03\\\\\\\\\\\\\\\":0,\\\\\\\\\\\\\\\"2018-02-04\\\\\\\\\\\\\\\":0,\\\\\\\\\\\\\\\"2018-02-05\\\\\\\\\\\\\\\":0,\\\\\\\\\\\\\\\"2018-02-06\\\\\\\\\\\\\\\":0,\\\\\\\\\\\\\\\"2018-02-07\\\\\\\\\\\\\\\":0,\\\\\\\\\\\\\\\"2018-02-08\\\\\\\\\\\\\\\":0,\\\\\\\\\\\\\\\"2018-02-09\\\\\\\\\\\\\\\":0,\\\\\\\\\\\\\\\"2018-02-10\\\\\\\\\\\\\\\":0,\\\\\\\\\\\\\\\"2018-02-11\\\\\\\\\\\\\\\":0,\\\\\\\\\\\\\\\"2018-02-12\\\\\\\\\\\\\\\":0,\\\\\\\\\\\\\\\"2018-02-13\\\\\\\\\\\\\\\":0,\\\\\\\\\\\\\\\"2018-02-14\\\\\\\\\\\\\\\":0,\\\\\\\\\\\\\\\"2018-02-15\\\\\\\\\\\\\\\":0,\\\\\\\\\\\\\\\"2018-02-16\\\\\\\\\\\\\\\":0,\\\\\\\\\\\\\\\"2018-02-17\\\\\\\\\\\\\\\":0,\\\\\\\\\\\\\\\"2018-02-18\\\\\\\\\\\\\\\":0,\\\\\\\\\\\\\\\"2018-02-19\\\\\\\\\\\\\\\":0,\\\\\\\\\\\\\\\"2018-02-20\\\\\\\\\\\\\\\":0,\\\\\\\\\\\\\\\"2018-02-21\\\\\\\\\\\\\\\":0,\\\\\\\\\\\\\\\"2018-02-22\\\\\\\\\\\\\\\":0,\\\\\\\\\\\\\\\"2018-02-23\\\\\\\\\\\\\\\":0,\\\\\\\\\\\\\\\"2018-02-24\\\\\\\\\\\\\\\":0,\\\\\\\\\\\\\\\"2018-02-25\\\\\\\\\\\\\\\":0,\\\\\\\\\\\\\\\"2018-02-26\\\\\\\\\\\\\\\":0,\\\\\\\\\\\\\\\"2018-02-27\\\\\\\\\\\\\\\":0,\\\\\\\\\\\\\\\"2018-02-28\\\\\\\\\\\\\\\":0,\\\\\\\\\\\\\\\"2018-03-01\\\\\\\\\\\\\\\":0,\\\\\\\\\\\\\\\"2018-03-02\\\\\\\\\\\\\\\":0,\\\\\\\\\\\\\\\"2018-03-03\\\\\\\\\\\\\\\":0,\\\\\\\\\\\\\\\"2018-03-04\\\\\\\\\\\\\\\":0,\\\\\\\\\\\\\\\"2018-03-05\\\\\\\\\\\\\\\":0,\\\\\\\\\\\\\\\"2018-03-06\\\\\\\\\\\\\\\":0,\\\\\\\\\\\\\\\"2018-03-07\\\\\\\\\\\\\\\":0,\\\\\\\\\\\\\\\"2018-03-08\\\\\\\\\\\\\\\":0,\\\\\\\\\\\\\\\"2018-03-09\\\\\\\\\\\\\\\":0,\\\\\\\\\\\\\\\"2018-03-10\\\\\\\\\\\\\\\":0,\\\\\\\\\\\\\\\"2018-03-11\\\\\\\\\\\\\\\":0,\\\\\\\\\\\\\\\"2018-03-12\\\\\\\\\\\\\\\":0,\\\\\\\\\\\\\\\"2018-03-13\\\\\\\\\\\\\\\":0,\\\\\\\\\\\\\\\"2018-03-14\\\\\\\\\\\\\\\":0,\\\\\\\\\\\\\\\"2018-03-15\\\\\\\\\\\\\\\":0,\\\\\\\\\\\\\\\"2018-03-16\\\\\\\\\\\\\\\":0,\\\\\\\\\\\\\\\"2018-03-17\\\\\\\\\\\\\\\":0,\\\\\\\\\\\\\\\"2018-03-18\\\\\\\\\\\\\\\":0,\\\\\\\\\\\\\\\"2018-03-19\\\\\\\\\\\\\\\":0,\\\\\\\\\\\\\\\"2018-03-20\\\\\\\\\\\\\\\":0,\\\\\\\\\\\\\\\"2018-03-21\\\\\\\\\\\\\\\":0,\\\\\\\\\\\\\\\"2018-03-22\\\\\\\\\\\\\\\":0,\\\\\\\\\\\\\\\"2018-03-23\\\\\\\\\\\\\\\":0,\\\\\\\\\\\\\\\"2018-03-24\\\\\\\\\\\\\\\":0,\\\\\\\\\\\\\\\"2018-03-25\\\\\\\\\\\\\\\":0,\\\\\\\\\\\\\\\"2018-03-26\\\\\\\\\\\\\\\":0,\\\\\\\\\\\\\\\"2018-03-27\\\\\\\\\\\\\\\":0,\\\\\\\\\\\\\\\"2018-03-28\\\\\\\\\\\\\\\":0,\\\\\\\\\\\\\\\"2018-03-29\\\\\\\\\\\\\\\":0,\\\\\\\\\\\\\\\"2018-03-30\\\\\\\\\\\\\\\":0,\\\\\\\\\\\\\\\"2018-03-31\\\\\\\\\\\\\\\":0}}\\\\\\\"\\\"\"",
          "isSummary": false,
          "previewData": {
            "filter": null
          },
          "isSql": false
        }
      }
    },
    {
      "cell_type": "markdown",
      "source": [
        "## Count distinct models by date\n"
      ],
      "metadata": {}
    },
    {
      "cell_type": "code",
      "source": [
        "from pyspark.sql.functions import countDistinct\n",
        "\n",
        "validation_modelcount_by_date = df.groupBy('file','date').agg(countDistinct('model'))\n",
        "\n",
        "display(validation_modelcount_by_date)"
      ],
      "outputs": [
        {
          "output_type": "display_data",
          "data": {
            "application/vnd.livy.statement-meta+json": {
              "spark_pool": "wu2sinespark",
              "session_id": 31,
              "statement_id": 10,
              "state": "finished",
              "livy_statement_state": "available",
              "queued_time": "2021-01-12T18:52:05.3585957Z",
              "execution_start_time": "2021-01-12T19:04:32.1510085Z",
              "execution_finish_time": "2021-01-12T19:04:38.2490614Z",
              "from_artifact": true
            },
            "text/plain": "StatementMeta(wu2sinespark, 31, 10, Finished, Available)"
          },
          "metadata": {}
        },
        {
          "output_type": "display_data",
          "data": {
            "application/vnd.synapse.widget-view+json": {
              "widget_id": "39fc234d-0984-4590-8ec5-bb807b98cfb2",
              "widget_type": "Synapse.DataFrame"
            },
            "text/plain": "SynapseWidget(Synapse.DataFrame, 39fc234d-0984-4590-8ec5-bb807b98cfb2)"
          },
          "metadata": {}
        },
        {
          "output_type": "execute_result",
          "execution_count": 8,
          "data": {},
          "metadata": {}
        }
      ],
      "execution_count": 8,
      "metadata": {
        "collapsed": false,
        "diagram": {
          "activateDiagramType": 1,
          "chartConfig": {
            "category": "bar",
            "keys": [
              "file"
            ],
            "values": [
              "count(DISTINCT model)"
            ],
            "yLabel": "count(DISTINCT model)",
            "xLabel": "file",
            "aggregation": "SUM",
            "aggByBackend": false
          },
          "aggData": "\"\\\"\\\\\\\"{\\\\\\\\\\\\\\\"count(DISTINCT model)\\\\\\\\\\\\\\\":{\\\\\\\\\\\\\\\"wasbs://hddata@wu2modtimesmls2858026735.blob.core.windows.net/2018/2018-01-01.csv\\\\\\\\\\\\\\\":49,\\\\\\\\\\\\\\\"wasbs://hddata@wu2modtimesmls2858026735.blob.core.windows.net/2018/2018-01-02.csv\\\\\\\\\\\\\\\":49,\\\\\\\\\\\\\\\"wasbs://hddata@wu2modtimesmls2858026735.blob.core.windows.net/2018/2018-01-03.csv\\\\\\\\\\\\\\\":49,\\\\\\\\\\\\\\\"wasbs://hddata@wu2modtimesmls2858026735.blob.core.windows.net/2018/2018-01-04.csv\\\\\\\\\\\\\\\":49,\\\\\\\\\\\\\\\"wasbs://hddata@wu2modtimesmls2858026735.blob.core.windows.net/2018/2018-01-05.csv\\\\\\\\\\\\\\\":49,\\\\\\\\\\\\\\\"wasbs://hddata@wu2modtimesmls2858026735.blob.core.windows.net/2018/2018-01-06.csv\\\\\\\\\\\\\\\":50,\\\\\\\\\\\\\\\"wasbs://hddata@wu2modtimesmls2858026735.blob.core.windows.net/2018/2018-01-07.csv\\\\\\\\\\\\\\\":50,\\\\\\\\\\\\\\\"wasbs://hddata@wu2modtimesmls2858026735.blob.core.windows.net/2018/2018-01-08.csv\\\\\\\\\\\\\\\":50,\\\\\\\\\\\\\\\"wasbs://hddata@wu2modtimesmls2858026735.blob.core.windows.net/2018/2018-01-09.csv\\\\\\\\\\\\\\\":50,\\\\\\\\\\\\\\\"wasbs://hddata@wu2modtimesmls2858026735.blob.core.windows.net/2018/2018-01-10.csv\\\\\\\\\\\\\\\":50,\\\\\\\\\\\\\\\"wasbs://hddata@wu2modtimesmls2858026735.blob.core.windows.net/2018/2018-01-11.csv\\\\\\\\\\\\\\\":50,\\\\\\\\\\\\\\\"wasbs://hddata@wu2modtimesmls2858026735.blob.core.windows.net/2018/2018-01-12.csv\\\\\\\\\\\\\\\":50,\\\\\\\\\\\\\\\"wasbs://hddata@wu2modtimesmls2858026735.blob.core.windows.net/2018/2018-01-13.csv\\\\\\\\\\\\\\\":51,\\\\\\\\\\\\\\\"wasbs://hddata@wu2modtimesmls2858026735.blob.core.windows.net/2018/2018-01-14.csv\\\\\\\\\\\\\\\":51,\\\\\\\\\\\\\\\"wasbs://hddata@wu2modtimesmls2858026735.blob.core.windows.net/2018/2018-01-15.csv\\\\\\\\\\\\\\\":51,\\\\\\\\\\\\\\\"wasbs://hddata@wu2modtimesmls2858026735.blob.core.windows.net/2018/2018-01-16.csv\\\\\\\\\\\\\\\":51,\\\\\\\\\\\\\\\"wasbs://hddata@wu2modtimesmls2858026735.blob.core.windows.net/2018/2018-01-17.csv\\\\\\\\\\\\\\\":51,\\\\\\\\\\\\\\\"wasbs://hddata@wu2modtimesmls2858026735.blob.core.windows.net/2018/2018-01-18.csv\\\\\\\\\\\\\\\":51,\\\\\\\\\\\\\\\"wasbs://hddata@wu2modtimesmls2858026735.blob.core.windows.net/2018/2018-01-19.csv\\\\\\\\\\\\\\\":51,\\\\\\\\\\\\\\\"wasbs://hddata@wu2modtimesmls2858026735.blob.core.windows.net/2018/2018-01-20.csv\\\\\\\\\\\\\\\":49,\\\\\\\\\\\\\\\"wasbs://hddata@wu2modtimesmls2858026735.blob.core.windows.net/2018/2018-01-21.csv\\\\\\\\\\\\\\\":51,\\\\\\\\\\\\\\\"wasbs://hddata@wu2modtimesmls2858026735.blob.core.windows.net/2018/2018-01-22.csv\\\\\\\\\\\\\\\":51,\\\\\\\\\\\\\\\"wasbs://hddata@wu2modtimesmls2858026735.blob.core.windows.net/2018/2018-01-23.csv\\\\\\\\\\\\\\\":50,\\\\\\\\\\\\\\\"wasbs://hddata@wu2modtimesmls2858026735.blob.core.windows.net/2018/2018-01-24.csv\\\\\\\\\\\\\\\":51,\\\\\\\\\\\\\\\"wasbs://hddata@wu2modtimesmls2858026735.blob.core.windows.net/2018/2018-01-25.csv\\\\\\\\\\\\\\\":51,\\\\\\\\\\\\\\\"wasbs://hddata@wu2modtimesmls2858026735.blob.core.windows.net/2018/2018-01-26.csv\\\\\\\\\\\\\\\":51,\\\\\\\\\\\\\\\"wasbs://hddata@wu2modtimesmls2858026735.blob.core.windows.net/2018/2018-01-27.csv\\\\\\\\\\\\\\\":51,\\\\\\\\\\\\\\\"wasbs://hddata@wu2modtimesmls2858026735.blob.core.windows.net/2018/2018-01-28.csv\\\\\\\\\\\\\\\":51,\\\\\\\\\\\\\\\"wasbs://hddata@wu2modtimesmls2858026735.blob.core.windows.net/2018/2018-01-29.csv\\\\\\\\\\\\\\\":51,\\\\\\\\\\\\\\\"wasbs://hddata@wu2modtimesmls2858026735.blob.core.windows.net/2018/2018-01-30.csv\\\\\\\\\\\\\\\":51,\\\\\\\\\\\\\\\"wasbs://hddata@wu2modtimesmls2858026735.blob.core.windows.net/2018/2018-01-31.csv\\\\\\\\\\\\\\\":51,\\\\\\\\\\\\\\\"wasbs://hddata@wu2modtimesmls2858026735.blob.core.windows.net/2018/2018-02-01.csv\\\\\\\\\\\\\\\":51,\\\\\\\\\\\\\\\"wasbs://hddata@wu2modtimesmls2858026735.blob.core.windows.net/2018/2018-02-02.csv\\\\\\\\\\\\\\\":51,\\\\\\\\\\\\\\\"wasbs://hddata@wu2modtimesmls2858026735.blob.core.windows.net/2018/2018-02-03.csv\\\\\\\\\\\\\\\":51,\\\\\\\\\\\\\\\"wasbs://hddata@wu2modtimesmls2858026735.blob.core.windows.net/2018/2018-02-04.csv\\\\\\\\\\\\\\\":51,\\\\\\\\\\\\\\\"wasbs://hddata@wu2modtimesmls2858026735.blob.core.windows.net/2018/2018-02-05.csv\\\\\\\\\\\\\\\":51,\\\\\\\\\\\\\\\"wasbs://hddata@wu2modtimesmls2858026735.blob.core.windows.net/2018/2018-02-06.csv\\\\\\\\\\\\\\\":51,\\\\\\\\\\\\\\\"wasbs://hddata@wu2modtimesmls2858026735.blob.core.windows.net/2018/2018-02-07.csv\\\\\\\\\\\\\\\":51,\\\\\\\\\\\\\\\"wasbs://hddata@wu2modtimesmls2858026735.blob.core.windows.net/2018/2018-02-08.csv\\\\\\\\\\\\\\\":51,\\\\\\\\\\\\\\\"wasbs://hddata@wu2modtimesmls2858026735.blob.core.windows.net/2018/2018-02-09.csv\\\\\\\\\\\\\\\":50,\\\\\\\\\\\\\\\"wasbs://hddata@wu2modtimesmls2858026735.blob.core.windows.net/2018/2018-02-10.csv\\\\\\\\\\\\\\\":50,\\\\\\\\\\\\\\\"wasbs://hddata@wu2modtimesmls2858026735.blob.core.windows.net/2018/2018-02-11.csv\\\\\\\\\\\\\\\":50,\\\\\\\\\\\\\\\"wasbs://hddata@wu2modtimesmls2858026735.blob.core.windows.net/2018/2018-02-12.csv\\\\\\\\\\\\\\\":50,\\\\\\\\\\\\\\\"wasbs://hddata@wu2modtimesmls2858026735.blob.core.windows.net/2018/2018-02-13.csv\\\\\\\\\\\\\\\":50,\\\\\\\\\\\\\\\"wasbs://hddata@wu2modtimesmls2858026735.blob.core.windows.net/2018/2018-02-14.csv\\\\\\\\\\\\\\\":50,\\\\\\\\\\\\\\\"wasbs://hddata@wu2modtimesmls2858026735.blob.core.windows.net/2018/2018-02-15.csv\\\\\\\\\\\\\\\":50,\\\\\\\\\\\\\\\"wasbs://hddata@wu2modtimesmls2858026735.blob.core.windows.net/2018/2018-02-16.csv\\\\\\\\\\\\\\\":50,\\\\\\\\\\\\\\\"wasbs://hddata@wu2modtimesmls2858026735.blob.core.windows.net/2018/2018-02-17.csv\\\\\\\\\\\\\\\":50,\\\\\\\\\\\\\\\"wasbs://hddata@wu2modtimesmls2858026735.blob.core.windows.net/2018/2018-02-18.csv\\\\\\\\\\\\\\\":50,\\\\\\\\\\\\\\\"wasbs://hddata@wu2modtimesmls2858026735.blob.core.windows.net/2018/2018-02-19.csv\\\\\\\\\\\\\\\":50,\\\\\\\\\\\\\\\"wasbs://hddata@wu2modtimesmls2858026735.blob.core.windows.net/2018/2018-02-20.csv\\\\\\\\\\\\\\\":50,\\\\\\\\\\\\\\\"wasbs://hddata@wu2modtimesmls2858026735.blob.core.windows.net/2018/2018-02-21.csv\\\\\\\\\\\\\\\":50,\\\\\\\\\\\\\\\"wasbs://hddata@wu2modtimesmls2858026735.blob.core.windows.net/2018/2018-02-22.csv\\\\\\\\\\\\\\\":50,\\\\\\\\\\\\\\\"wasbs://hddata@wu2modtimesmls2858026735.blob.core.windows.net/2018/2018-02-23.csv\\\\\\\\\\\\\\\":50,\\\\\\\\\\\\\\\"wasbs://hddata@wu2modtimesmls2858026735.blob.core.windows.net/2018/2018-02-24.csv\\\\\\\\\\\\\\\":50,\\\\\\\\\\\\\\\"wasbs://hddata@wu2modtimesmls2858026735.blob.core.windows.net/2018/2018-02-25.csv\\\\\\\\\\\\\\\":50,\\\\\\\\\\\\\\\"wasbs://hddata@wu2modtimesmls2858026735.blob.core.windows.net/2018/2018-02-26.csv\\\\\\\\\\\\\\\":50,\\\\\\\\\\\\\\\"wasbs://hddata@wu2modtimesmls2858026735.blob.core.windows.net/2018/2018-02-27.csv\\\\\\\\\\\\\\\":50,\\\\\\\\\\\\\\\"wasbs://hddata@wu2modtimesmls2858026735.blob.core.windows.net/2018/2018-02-28.csv\\\\\\\\\\\\\\\":49,\\\\\\\\\\\\\\\"wasbs://hddata@wu2modtimesmls2858026735.blob.core.windows.net/2018/2018-03-01.csv\\\\\\\\\\\\\\\":49,\\\\\\\\\\\\\\\"wasbs://hddata@wu2modtimesmls2858026735.blob.core.windows.net/2018/2018-03-02.csv\\\\\\\\\\\\\\\":49,\\\\\\\\\\\\\\\"wasbs://hddata@wu2modtimesmls2858026735.blob.core.windows.net/2018/2018-03-03.csv\\\\\\\\\\\\\\\":48,\\\\\\\\\\\\\\\"wasbs://hddata@wu2modtimesmls2858026735.blob.core.windows.net/2018/2018-03-04.csv\\\\\\\\\\\\\\\":48,\\\\\\\\\\\\\\\"wasbs://hddata@wu2modtimesmls2858026735.blob.core.windows.net/2018/2018-03-05.csv\\\\\\\\\\\\\\\":48,\\\\\\\\\\\\\\\"wasbs://hddata@wu2modtimesmls2858026735.blob.core.windows.net/2018/2018-03-06.csv\\\\\\\\\\\\\\\":48,\\\\\\\\\\\\\\\"wasbs://hddata@wu2modtimesmls2858026735.blob.core.windows.net/2018/2018-03-07.csv\\\\\\\\\\\\\\\":48,\\\\\\\\\\\\\\\"wasbs://hddata@wu2modtimesmls2858026735.blob.core.windows.net/2018/2018-03-08.csv\\\\\\\\\\\\\\\":48,\\\\\\\\\\\\\\\"wasbs://hddata@wu2modtimesmls2858026735.blob.core.windows.net/2018/2018-03-09.csv\\\\\\\\\\\\\\\":48,\\\\\\\\\\\\\\\"wasbs://hddata@wu2modtimesmls2858026735.blob.core.windows.net/2018/2018-03-10.csv\\\\\\\\\\\\\\\":49,\\\\\\\\\\\\\\\"wasbs://hddata@wu2modtimesmls2858026735.blob.core.windows.net/2018/2018-03-11.csv\\\\\\\\\\\\\\\":49,\\\\\\\\\\\\\\\"wasbs://hddata@wu2modtimesmls2858026735.blob.core.windows.net/2018/2018-03-12.csv\\\\\\\\\\\\\\\":50,\\\\\\\\\\\\\\\"wasbs://hddata@wu2modtimesmls2858026735.blob.core.windows.net/2018/2018-03-13.csv\\\\\\\\\\\\\\\":50,\\\\\\\\\\\\\\\"wasbs://hddata@wu2modtimesmls2858026735.blob.core.windows.net/2018/2018-03-14.csv\\\\\\\\\\\\\\\":50,\\\\\\\\\\\\\\\"wasbs://hddata@wu2modtimesmls2858026735.blob.core.windows.net/2018/2018-03-15.csv\\\\\\\\\\\\\\\":50,\\\\\\\\\\\\\\\"wasbs://hddata@wu2modtimesmls2858026735.blob.core.windows.net/2018/2018-03-16.csv\\\\\\\\\\\\\\\":50,\\\\\\\\\\\\\\\"wasbs://hddata@wu2modtimesmls2858026735.blob.core.windows.net/2018/2018-03-17.csv\\\\\\\\\\\\\\\":49,\\\\\\\\\\\\\\\"wasbs://hddata@wu2modtimesmls2858026735.blob.core.windows.net/2018/2018-03-18.csv\\\\\\\\\\\\\\\":49,\\\\\\\\\\\\\\\"wasbs://hddata@wu2modtimesmls2858026735.blob.core.windows.net/2018/2018-03-19.csv\\\\\\\\\\\\\\\":49,\\\\\\\\\\\\\\\"wasbs://hddata@wu2modtimesmls2858026735.blob.core.windows.net/2018/2018-03-20.csv\\\\\\\\\\\\\\\":49,\\\\\\\\\\\\\\\"wasbs://hddata@wu2modtimesmls2858026735.blob.core.windows.net/2018/2018-03-21.csv\\\\\\\\\\\\\\\":49,\\\\\\\\\\\\\\\"wasbs://hddata@wu2modtimesmls2858026735.blob.core.windows.net/2018/2018-03-22.csv\\\\\\\\\\\\\\\":49,\\\\\\\\\\\\\\\"wasbs://hddata@wu2modtimesmls2858026735.blob.core.windows.net/2018/2018-03-23.csv\\\\\\\\\\\\\\\":49,\\\\\\\\\\\\\\\"wasbs://hddata@wu2modtimesmls2858026735.blob.core.windows.net/2018/2018-03-24.csv\\\\\\\\\\\\\\\":49,\\\\\\\\\\\\\\\"wasbs://hddata@wu2modtimesmls2858026735.blob.core.windows.net/2018/2018-03-25.csv\\\\\\\\\\\\\\\":49,\\\\\\\\\\\\\\\"wasbs://hddata@wu2modtimesmls2858026735.blob.core.windows.net/2018/2018-03-26.csv\\\\\\\\\\\\\\\":49,\\\\\\\\\\\\\\\"wasbs://hddata@wu2modtimesmls2858026735.blob.core.windows.net/2018/2018-03-27.csv\\\\\\\\\\\\\\\":48,\\\\\\\\\\\\\\\"wasbs://hddata@wu2modtimesmls2858026735.blob.core.windows.net/2018/2018-03-28.csv\\\\\\\\\\\\\\\":48,\\\\\\\\\\\\\\\"wasbs://hddata@wu2modtimesmls2858026735.blob.core.windows.net/2018/2018-03-29.csv\\\\\\\\\\\\\\\":48,\\\\\\\\\\\\\\\"wasbs://hddata@wu2modtimesmls2858026735.blob.core.windows.net/2018/2018-03-30.csv\\\\\\\\\\\\\\\":45,\\\\\\\\\\\\\\\"wasbs://hddata@wu2modtimesmls2858026735.blob.core.windows.net/2018/2018-03-31.csv\\\\\\\\\\\\\\\":45}}\\\\\\\"\\\"\"",
          "isSummary": false,
          "previewData": {
            "filter": null
          },
          "isSql": false
        }
      }
    },
    {
      "cell_type": "markdown",
      "source": [
        "## \n"
      ],
      "metadata": {}
    }
  ],
  "metadata": {
    "sessionOptions": {
      "driverMemory": "28g",
      "driverCores": 4,
      "executorMemory": "28g",
      "executorCores": 4,
      "numExecutors": 2,
      "keepAliveTimeout": 30,
      "conf": {
        "spark.dynamicAllocation.enabled": "false",
        "spark.dynamicAllocation.minExecutors": "2",
        "spark.dynamicAllocation.maxExecutors": "2"
      }
    },
    "saveOutput": true,
    "language_info": {
      "name": "python"
    },
    "a365ComputeOptions": {
      "nodeSize": "Small",
      "auth": {
        "authResource": "https://dev.azuresynapse.net",
        "type": "AAD"
      },
      "name": "wu2sinespark",
      "nodeCount": 3,
      "endpoint": "https://wu2sineapp.dev.azuresynapse.net/livyApi/versions/2019-11-01-preview/sparkPools/wu2sinespark",
      "automaticScaleJobs": false,
      "type": "Spark",
      "id": "/subscriptions/7fd76d0f-84f2-498b-a997-e0d059af5ce1/resourceGroups/wu2sine/providers/Microsoft.Synapse/workspaces/wu2sineapp/bigDataPools/wu2sinespark",
      "sparkVersion": "2.4",
      "extraHeader": {}
    },
    "microsoft": {
      "language": "python"
    },
    "nteract": {
      "version": "nteract-front-end@1.0.0"
    }
  },
  "nbformat": 4,
  "nbformat_minor": 2
}